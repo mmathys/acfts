{
 "cells": [
  {
   "cell_type": "markdown",
   "metadata": {},
   "source": [
    "# Optimizing the server routine without communication\n",
    "\n",
    "I am optimizing the server routine without communication.\n",
    "\n",
    "The benchmarks are run on different number of cores. The limit of the cores is handled by docker.\n",
    "\n",
    "**1 CPU**\n",
    "\n",
    "\n",
    "\n",
    "**2 CPUs**\n",
    "\n",
    "**4 CPUs**\n",
    "\n",
    "**8 CPUs**\n",
    "\n",
    "**16 CPUs**\n",
    "\n",
    "**32 CPUs**\n",
    "\n",
    "**64 CPUs**\n"
   ]
  },
  {
   "cell_type": "markdown",
   "metadata": {},
   "source": []
  }
 ],
 "metadata": {
  "kernelspec": {
   "display_name": "Python 3",
   "language": "python",
   "name": "python3"
  },
  "language_info": {
   "codemirror_mode": {
    "name": "ipython",
    "version": 3
   },
   "file_extension": ".py",
   "mimetype": "text/x-python",
   "name": "python",
   "nbconvert_exporter": "python",
   "pygments_lexer": "ipython3",
   "version": "3.7.6"
  }
 },
 "nbformat": 4,
 "nbformat_minor": 4
}
