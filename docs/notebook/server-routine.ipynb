{
 "cells": [
  {
   "cell_type": "markdown",
   "metadata": {},
   "source": [
    "# Optimizing the server routine without communication\n",
    "\n",
    "I am optimizing the server routine without communication.\n",
    "\n",
    "The benchmarks are run on different number of cores. The limit of the cores is handled by docker.\n",
    "\n",
    "**1 CPU**\n",
    "\n",
    "```\n",
    "single_thread_1  | BenchmarkSignNoNetwork/num_workers_=_1-64         \t    1134\t   1054747 ns/op\n",
    "single_thread_1  | BenchmarkSignNoNetwork/num_workers_=_2-64         \t    1570\t   1052829 ns/op\n",
    "single_thread_1  | BenchmarkSignNoNetwork/num_workers_=_3-64         \t    2368\t   1135290 ns/op\n",
    "```\n",
    "\n",
    "**2 CPUs**\n",
    "\n",
    "```\n",
    "\n",
    "```\n",
    "\n",
    "**4 CPUs**\n",
    "\n",
    "```\n",
    "\n",
    "```\n",
    "\n",
    "**8 CPUs**\n",
    "\n",
    "```\n",
    "\n",
    "```\n",
    "\n",
    "**16 CPUs**\n",
    "\n",
    "```\n",
    "\n",
    "```\n",
    "\n",
    "**32 CPUs**\n",
    "\n",
    "```\n",
    "\n",
    "```\n",
    "\n",
    "**64 CPUs**\n",
    "\n",
    "```\n",
    "\n",
    "```\n"
   ]
  },
  {
   "cell_type": "markdown",
   "metadata": {},
   "source": []
  }
 ],
 "metadata": {
  "kernelspec": {
   "display_name": "Python 3",
   "language": "python",
   "name": "python3"
  },
  "language_info": {
   "codemirror_mode": {
    "name": "ipython",
    "version": 3
   },
   "file_extension": ".py",
   "mimetype": "text/x-python",
   "name": "python",
   "nbconvert_exporter": "python",
   "pygments_lexer": "ipython3",
   "version": "3.7.6"
  }
 },
 "nbformat": 4,
 "nbformat_minor": 4
}
