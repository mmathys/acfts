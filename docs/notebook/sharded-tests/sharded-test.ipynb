{
 "cells": [
  {
   "cell_type": "markdown",
   "metadata": {},
   "source": [
    "# Sharded Tests\n",
    "\n",
    "## Bug with encoding/gob\n",
    "\n",
    "Spent a lot of time finding a bug the server routine: sometimes the server accepted a signature of a request, sometimes the server rejected the request.\n",
    "\n",
    "The bug was that the hash was calculated the wrong way: the pipeline to create a hash from a struct was the following:\n",
    "\n",
    "```\n",
    "sha3(gobEncoding(go struct))\n",
    "\n",
    "```\n",
    "\n",
    "it turns out that `encoding/gob` is not deterministic: Let `s` and `s'` be two go structs. There can be two gob encodings `gobEncoding(s)` and `gobEncoding(s')` where `gobEncoding(s) != gobEncoding(s')` but `s == s'`. The reason is unknown. The reason could be slicing, reordering, compression.\n",
    "\n",
    "This could happen for example when `gobEncoding(s)` is transferred over the the `net/rpc` library.\n",
    "\n",
    "### Fixing the bug: construct hashing method where each field in the struct is hashed **explicitly**\n",
    "\n",
    "Before:\n",
    "\n",
    "![./gob-before.png](./gob-before.png)\n",
    "\n",
    "After:\n",
    "\n",
    "![./gob.png](./gob.png)\n",
    "\n",
    "## Benchmarks\n",
    "\n",
    "### Server routine only, no networking, no sharding\n",
    "\n",
    "This is a basic sanity check to ensure that the changes have not impacted the performance of the server routine."
   ]
  },
  {
   "cell_type": "markdown",
   "metadata": {},
   "source": []
  },
  {
   "cell_type": "code",
   "execution_count": null,
   "metadata": {},
   "outputs": [],
   "source": []
  }
 ],
 "metadata": {
  "kernelspec": {
   "display_name": "Python 3",
   "language": "python",
   "name": "python3"
  },
  "language_info": {
   "codemirror_mode": {
    "name": "ipython",
    "version": 3
   },
   "file_extension": ".py",
   "mimetype": "text/x-python",
   "name": "python",
   "nbconvert_exporter": "python",
   "pygments_lexer": "ipython3",
   "version": "3.7.6"
  }
 },
 "nbformat": 4,
 "nbformat_minor": 4
}
