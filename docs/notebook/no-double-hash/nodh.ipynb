{
 "cells": [
  {
   "cell_type": "markdown",
   "metadata": {},
   "source": [
    "## Removing the double hash\n",
    "\n",
    "Before, I hashed the struct with SHA-256. Then, this hash was hashed with SHA-512 in ed25519. Now, I hash the struct with SHA-512, which takes more time obviously. But obviously this is the right way to do it, and the way before was not the right way to do it.\n",
    "\n",
    "### 64 cores, 1 signature\n",
    "\n",
    "Before: 8698 ns/op <=> 110546.098 op/s\n",
    "\n",
    "After: 8807 ns/op <=> 113546.043 op/s\n",
    "\n",
    "**Why is there a (slight) speedup?** The payload size is very small. The calling overhead dominates the hashing time (2 calls vs 1 call).\n",
    "\n",
    "### 64 cores, 64 signatures\n",
    "\n",
    "Before: 116651 ns/op <=> 8572.57975 op/s\n",
    "\n",
    "After: 119704 ns/op <=> 8353.93972 op/s\n",
    "\n",
    "**Why is there a (slight) slowdown?** The payload size is big. The increased hashing time dominates the calling overhead (SHA-512 vs SHA-256)."
   ]
  },
  {
   "cell_type": "code",
   "execution_count": null,
   "metadata": {},
   "outputs": [],
   "source": []
  }
 ],
 "metadata": {
  "kernelspec": {
   "display_name": "Python 3",
   "language": "python",
   "name": "python3"
  },
  "language_info": {
   "codemirror_mode": {
    "name": "ipython",
    "version": 3
   },
   "file_extension": ".py",
   "mimetype": "text/x-python",
   "name": "python",
   "nbconvert_exporter": "python",
   "pygments_lexer": "ipython3",
   "version": "3.7.6"
  }
 },
 "nbformat": 4,
 "nbformat_minor": 4
}
