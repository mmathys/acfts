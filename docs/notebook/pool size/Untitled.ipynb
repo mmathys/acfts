{
 "cells": [
  {
   "cell_type": "code",
   "execution_count": null,
   "metadata": {},
   "outputs": [],
   "source": [
    "import pandas as pd\n",
    "import plotly.graph_objects as go\n",
    "\n",
    "df = pd.read_csv(\"map.csv\")\n",
    "\n",
    "fig = go.Figure()\n",
    "fig.add_trace(go.Scatter(\n",
    "    x=df[\"cpu\"],\n",
    "    y=1/(df[\"nsop-syncmap\"]*10**-9),\n",
    "    name=\"sync/map\"\n",
    "))\n",
    "\n",
    "fig.add_trace(go.Scatter(\n",
    "    x=df[\"cpu\"],\n",
    "    y=1/(df[\"nsop-insertonly\"]*10**-9),\n",
    "    name=\"insert-only\"\n",
    "))\n",
    "\n",
    "fig.update_layout(\n",
    "    title=\"sync/map vs insert-only hashmap (log-log)\",\n",
    "    xaxis_title='CPUs', xaxis_type='category',\n",
    "    yaxis_title='tx / s', yaxis_type=\"log\")\n",
    "fig.show()"
   ]
  }
 ],
 "metadata": {
  "kernelspec": {
   "display_name": "Python 3",
   "language": "python",
   "name": "python3"
  },
  "language_info": {
   "codemirror_mode": {
    "name": "ipython",
    "version": 3
   },
   "file_extension": ".py",
   "mimetype": "text/x-python",
   "name": "python",
   "nbconvert_exporter": "python",
   "pygments_lexer": "ipython3",
   "version": "3.7.6"
  }
 },
 "nbformat": 4,
 "nbformat_minor": 4
}
