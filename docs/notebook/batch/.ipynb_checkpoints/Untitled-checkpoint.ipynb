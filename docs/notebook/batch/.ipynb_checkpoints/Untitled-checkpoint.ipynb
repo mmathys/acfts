{
 "cells": [
  {
   "cell_type": "markdown",
   "metadata": {},
   "source": [
    "## Batch verification\n",
    "\n",
    "Finding: Batch verification uses x86_64 SIMD instruction. It's limited to 64 signatures; that is 64 servers.\n",
    "\n",
    "Issue: Batch verification is only faster after a certain number of batches.\n",
    "\n",
    "let $n$ be the number of signatures that can be validated in a batch.\n",
    "\n",
    "- $n < k$: Do not use batch verification\n",
    "- $n \\geq k$: Use batch verification\n",
    "\n",
    "That number is $k=4$.\n",
    "\n"
   ]
  },
  {
   "cell_type": "code",
   "execution_count": null,
   "metadata": {},
   "outputs": [],
   "source": []
  }
 ],
 "metadata": {
  "kernelspec": {
   "display_name": "Python 3",
   "language": "python",
   "name": "python3"
  },
  "language_info": {
   "codemirror_mode": {
    "name": "ipython",
    "version": 3
   },
   "file_extension": ".py",
   "mimetype": "text/x-python",
   "name": "python",
   "nbconvert_exporter": "python",
   "pygments_lexer": "ipython3",
   "version": "3.7.6"
  }
 },
 "nbformat": 4,
 "nbformat_minor": 4
}
