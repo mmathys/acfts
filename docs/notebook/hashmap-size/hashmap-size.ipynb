{
 "cells": [
  {
   "cell_type": "markdown",
   "metadata": {},
   "source": [
    "# Size of the hash map\n",
    "\n",
    "Base memory usage: 876M\n",
    "\n",
    "\n",
    "\n",
    "| number of inserts | number of buckets | memory after set initializion [GiB] | memory after inserts [GiB] |\n",
    "|-------------------|-------------------|-------------------------------------|----------------------------|\n",
    "| 10^6              | 10^7              | 5                                   | 6.4                        |\n",
    "| 10^7              | 10^8              | 47.9                                | 56.1                       |\n",
    "| 10^8              | 10^8              | 47.9                                | 102                        |\n",
    "\n",
    "This yields that 1 empty bucket takes 504.916355 bytes and 1 entry (without bucket) takes 580.894327 bytes.\n",
    "\n",
    "Important aspects regarding BLS:\n",
    "\n",
    "- When using BLS, the transaction size does not increase when using multiple servers (clients can produce a single master signature).\n",
    "- When using EdDSA multisig, the transaction size does dramatically increase when using multiple servers.\n",
    "\n",
    "Therefore, with 1 TB of RAM, we could fit 1.8B transactions (without buckets). In 2018, VISA processed 124.3 billion payments."
   ]
  },
  {
   "cell_type": "code",
   "execution_count": null,
   "metadata": {},
   "outputs": [],
   "source": []
  }
 ],
 "metadata": {
  "kernelspec": {
   "display_name": "Python 3",
   "language": "python",
   "name": "python3"
  },
  "language_info": {
   "codemirror_mode": {
    "name": "ipython",
    "version": 3
   },
   "file_extension": ".py",
   "mimetype": "text/x-python",
   "name": "python",
   "nbconvert_exporter": "python",
   "pygments_lexer": "ipython3",
   "version": "3.7.6"
  }
 },
 "nbformat": 4,
 "nbformat_minor": 4
}
