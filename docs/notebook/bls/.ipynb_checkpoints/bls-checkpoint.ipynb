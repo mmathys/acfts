{
 "cells": [
  {
   "cell_type": "markdown",
   "metadata": {},
   "source": [
    "# Testing out BLS libraries\n",
    "\n",
    "## ethereum/py_ecc\n",
    "\n",
    "- G2ProofOfPossession\n",
    "- BLS_SIG_BLS12381G2_XMD:SHA-256_SSWU_RO_POP_ [format](https://tools.ietf.org/html/draft-irtf-cfrg-bls-signature-01#section-4.1)\n",
    "  - BLS\n",
    "  - BLS12-381, G2\n",
    "  - SHA-256\n",
    "  - Proof of Posession\n",
    "- Fast aggregate verification for multiple signatures, where the message (hash) is identical (our case).\n",
    "\n",
    "```\n",
    "/usr/local/bin/python3.7 /Users/max/code/pyecc-test/test.py\n",
    "verifying 1 signature took 0.9123740196228027s\n",
    "verifying 100 signatures took 1.9853248596191406s\n",
    "\n",
    "Process finished with exit code 0\n",
    "```\n",
    "\n",
    "## w3f/bls\n",
    "\n",
    "\n",
    "\n",
    "## noble bls12-381\n",
    "\n",
    "```\n",
    "getPublicKey x 1080 ops/sec @ 925μs/op\n",
    "sign x 14 ops/sec @ 70ms/op\n",
    "aggregateSignatures x 201 ops/sec @ 4ms/op\n",
    "verify x 22 ops/sec @ 44ms/op\n",
    "pairing (batch) x 54 ops/sec @ 18ms/op\n",
    "pairing (single) x 48 ops/sec @ 20ms/op\n",
    "```"
   ]
  },
  {
   "cell_type": "code",
   "execution_count": null,
   "metadata": {},
   "outputs": [],
   "source": []
  }
 ],
 "metadata": {
  "kernelspec": {
   "display_name": "Python 3",
   "language": "python",
   "name": "python3"
  },
  "language_info": {
   "codemirror_mode": {
    "name": "ipython",
    "version": 3
   },
   "file_extension": ".py",
   "mimetype": "text/x-python",
   "name": "python",
   "nbconvert_exporter": "python",
   "pygments_lexer": "ipython3",
   "version": "3.7.6"
  }
 },
 "nbformat": 4,
 "nbformat_minor": 4
}
