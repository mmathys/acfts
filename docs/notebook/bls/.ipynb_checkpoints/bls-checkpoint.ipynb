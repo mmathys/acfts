{
 "cells": [
  {
   "cell_type": "markdown",
   "metadata": {},
   "source": [
    "# Testing out BLS libraries\n",
    "\n",
    "Aggregating Public Keys\n",
    "\n",
    "https://crypto.stanford.edu/~dabo/pubs/papers/BLSmultisig.html\n",
    "\n",
    "Best library so far\n",
    "\n",
    "https://github.com/herumi/bls\n",
    "\n",
    "Benchmark (on my machine)\n",
    "\n",
    "Single BLS: 1147167 ns ~ 871 op/s\n",
    "\n",
    "Single EdDSA: 67266 ns ~ 14866 op/s\n",
    "\n",
    "BLS and EdDSA have the same verification speed when numSigs ~ 17.01\n",
    "\n",
    "BLS and EdDSA batch have the same verification speed when numSigs ~ 32.\n",
    "\n",
    "## Capabilities\n",
    "\n",
    "- Key generation\n",
    "- Hash signing\n",
    "- t-of-n Threshold scheme (recovering of master signature)\n",
    "- Signature aggregation\n",
    "- Public key aggregation\n",
    "- Signature Verification\n",
    "- Fast Aggregate Signature verification (when public keys are not aggregated, enables updating of server keypairs)\n",
    "\n",
    "## Proposal\n",
    "\n",
    "Implement both BLS EC and Ed as two separate modes. When starting, one can switch between the modes."
   ]
  },
  {
   "cell_type": "code",
   "execution_count": null,
   "metadata": {},
   "outputs": [],
   "source": []
  }
 ],
 "metadata": {
  "kernelspec": {
   "display_name": "Python 3",
   "language": "python",
   "name": "python3"
  },
  "language_info": {
   "codemirror_mode": {
    "name": "ipython",
    "version": 3
   },
   "file_extension": ".py",
   "mimetype": "text/x-python",
   "name": "python",
   "nbconvert_exporter": "python",
   "pygments_lexer": "ipython3",
   "version": "3.7.6"
  }
 },
 "nbformat": 4,
 "nbformat_minor": 4
}
