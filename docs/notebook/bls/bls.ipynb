{
 "cells": [
  {
   "cell_type": "markdown",
   "metadata": {},
   "source": [
    "# Testing out BLS libraries\n",
    "\n",
    "Aggregating Public Keys\n",
    "\n",
    "https://crypto.stanford.edu/~dabo/pubs/papers/BLSmultisig.html\n",
    "\n",
    "Best library so far\n",
    "\n",
    "https://github.com/herumi/bls\n",
    "\n",
    "Benchmark (on my machine)\n",
    "\n",
    "Single BLS: 1147167 ns\n",
    "\n",
    "Single EdDSA: 67266 ns\n",
    "\n",
    "BLS and EdDSA have the same verification speed when numSigs ~ 17.01\n",
    "\n",
    "BLS and EdDSA batch have the same verification speed when numSigs ~ 32."
   ]
  },
  {
   "cell_type": "code",
   "execution_count": null,
   "metadata": {},
   "outputs": [],
   "source": []
  }
 ],
 "metadata": {
  "kernelspec": {
   "display_name": "Python 3",
   "language": "python",
   "name": "python3"
  },
  "language_info": {
   "codemirror_mode": {
    "name": "ipython",
    "version": 3
   },
   "file_extension": ".py",
   "mimetype": "text/x-python",
   "name": "python",
   "nbconvert_exporter": "python",
   "pygments_lexer": "ipython3",
   "version": "3.7.6"
  }
 },
 "nbformat": 4,
 "nbformat_minor": 4
}
